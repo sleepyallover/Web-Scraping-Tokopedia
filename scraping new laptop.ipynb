{
 "cells": [
  {
   "cell_type": "code",
   "execution_count": 138,
   "id": "a79654c0-f6fb-4e1f-b1ac-d8155f9a1467",
   "metadata": {},
   "outputs": [],
   "source": [
    "from selenium import webdriver\n",
    "from selenium.webdriver.common.by import By\n",
    "from selenium.webdriver.support.ui import WebDriverWait\n",
    "from selenium.webdriver.support import expected_conditions as EC\n",
    "from selenium.common.exceptions import NoSuchElementException, StaleElementReferenceException\n",
    "from selenium.webdriver.chrome.service import Service\n",
    "import pandas as pd\n",
    "import time"
   ]
  },
  {
   "cell_type": "code",
   "execution_count": 139,
   "id": "702006c2-86e3-4f15-afd5-582770349729",
   "metadata": {},
   "outputs": [],
   "source": [
    "pd.set_option('display.max_colwidth', None)"
   ]
  },
  {
   "cell_type": "code",
   "execution_count": 140,
   "id": "be0d2152-5799-455d-a81b-1b110bcfe5ef",
   "metadata": {},
   "outputs": [],
   "source": [
    "brave_path = \"C:/Program Files/BraveSoftware/Brave-Browser/Application/brave.exe\"\n",
    "\n",
    "# Path to ChromeDriver\n",
    "driver_path = r'C:\\Users\\who are you\\Downloads\\Compressed\\chromedriver-win64\\chromedriver.exe'\n",
    "\n",
    "\n",
    "# Set up options for Brave\n",
    "options = webdriver.ChromeOptions()\n",
    "options.binary_location = brave_path\n",
    "\n",
    "# Set up WebDriver with Brave\n",
    "driver = webdriver.Chrome(executable_path=driver_path, options=options)\n",
    "\n",
    "# Access the webpage\n",
    "web = \"https://www.tokopedia.com/nvidiageforcelt/product?q=4060&sort=9\"\n",
    "driver.get(web)\n",
    "driver.maximize_window()"
   ]
  },
  {
   "cell_type": "code",
   "execution_count": 141,
   "id": "91625c07-6e2e-4e22-be1d-d4b5d29ce705",
   "metadata": {},
   "outputs": [],
   "source": [
    "container_element = driver.find_element_by_xpath('//div[contains(@class, \"css-8atqhb\")]')\n",
    "driver.execute_script(\"arguments[0].scrollIntoView();\", container_element)"
   ]
  },
  {
   "cell_type": "code",
   "execution_count": 142,
   "id": "5265edcc-e087-4da6-890e-294a9bce1fb0",
   "metadata": {},
   "outputs": [
    {
     "data": {
      "text/plain": [
       "<selenium.webdriver.remote.webelement.WebElement (session=\"e52e97f0288c08ac657038a2f1281eb5\", element=\"f.5F02DE1326385400B15DBB0356BB2F49.d.E5DD8037455DD4B22BA2B58B40FB25D9.e.148\")>"
      ]
     },
     "execution_count": 142,
     "metadata": {},
     "output_type": "execute_result"
    }
   ],
   "source": [
    "container_element"
   ]
  },
  {
   "cell_type": "code",
   "execution_count": 143,
   "id": "92e5eb15-5ac6-4686-aad0-a12acd10e763",
   "metadata": {},
   "outputs": [],
   "source": [
    "title_product = []\n",
    "product_price = []\n",
    "product_link=[]\n",
    "current_page = 1"
   ]
  },
  {
   "cell_type": "code",
   "execution_count": 144,
   "id": "51fabe0e-d02d-4278-a30b-a87d2c6e1f2a",
   "metadata": {},
   "outputs": [],
   "source": [
    "container = WebDriverWait(driver, 5).until(EC.presence_of_element_located((By.XPATH, './/div[contains(@class, \"css-tjjb18\")]')))"
   ]
  },
  {
   "cell_type": "code",
   "execution_count": 145,
   "id": "6a51aaac-a691-487b-9733-aab47972214a",
   "metadata": {},
   "outputs": [],
   "source": [
    "products = driver.find_elements_by_class_name(\"css-1sn1xa2\")\n",
    "for product in products:\n",
    "  try:\n",
    "    title = product.find_element_by_xpath('.//div[contains(@class, \"prd_link-product-name\")]').text\n",
    "  except NoSuchElementException:\n",
    "    title = None\n",
    "  title_product.append(title)\n",
    "            \n",
    "  try:\n",
    "    price = product.find_element_by_xpath('.//div[contains(@class, \"prd_link-product-price\")]').text\n",
    "  except NoSuchElementException:\n",
    "    price = None\n",
    "  product_price.append(price)\n",
    "  \n",
    "  try:\n",
    "    link_element = product.find_element_by_xpath('.//div[contains(@class, \"19oqosi\")]//a')  # Locate <a> tag\n",
    "    link = link_element.get_attribute(\"href\")  \n",
    "  except NoSuchElementException:\n",
    "    link = None\n",
    "  product_link.append(link)"
   ]
  },
  {
   "cell_type": "code",
   "execution_count": 146,
   "id": "0d6529ae-30cf-47d2-acb2-d54c5384c009",
   "metadata": {},
   "outputs": [],
   "source": [
    "df=pd.DataFrame(title_product, columns=['product name'])"
   ]
  },
  {
   "cell_type": "code",
   "execution_count": 147,
   "id": "0a632a98-1581-4683-b291-74d4da4819b9",
   "metadata": {},
   "outputs": [],
   "source": [
    "df['price']=product_price"
   ]
  },
  {
   "cell_type": "code",
   "execution_count": 148,
   "id": "d42f5002-50e1-4b8e-bfd6-aa75ac2b0993",
   "metadata": {},
   "outputs": [],
   "source": [
    "df['link']=product_link"
   ]
  },
  {
   "cell_type": "code",
   "execution_count": 149,
   "id": "8e89ac65-4468-4477-9025-a1c9a49ae417",
   "metadata": {},
   "outputs": [],
   "source": [
    "df['name2']=df['product name'].apply(lambda x:x.split('4060')[1])"
   ]
  },
  {
   "cell_type": "code",
   "execution_count": 150,
   "id": "e2d8077f-691b-4399-b43f-a611c161f783",
   "metadata": {},
   "outputs": [],
   "source": [
    "def ram(x):\n",
    "    if '512GB' in x:\n",
    "        return x.split('GB')[1]+x.split('GB')[2]\n",
    "    else:\n",
    "        return x.split('GB')[1]"
   ]
  },
  {
   "cell_type": "code",
   "execution_count": 151,
   "id": "4dcffb9f-c910-4e5a-b87e-3d97a46f50b2",
   "metadata": {},
   "outputs": [],
   "source": [
    "def name(x):\n",
    "    if 'GeForce' in x:\n",
    "        return x.split('GeForce')[0]\n",
    "    else:\n",
    "        return x.split('RTX')[0]"
   ]
  },
  {
   "cell_type": "code",
   "execution_count": 152,
   "id": "99f2e3f5-93e3-4344-a9a1-b03f0227b23e",
   "metadata": {},
   "outputs": [],
   "source": [
    "df['Memory']=df['name2'].apply(lambda x:ram(x))"
   ]
  },
  {
   "cell_type": "code",
   "execution_count": 153,
   "id": "4fd30551-ffb0-4b86-bdae-3942684cff7c",
   "metadata": {},
   "outputs": [],
   "source": [
    "df['Processor']=df['name2'].apply(lambda x:x.split('GB')[0].split('-')[1][:-2])"
   ]
  },
  {
   "cell_type": "code",
   "execution_count": 154,
   "id": "52157374-3080-4bf6-836a-4c0e54aef120",
   "metadata": {},
   "outputs": [],
   "source": [
    "df['Name']=df['product name'].apply(lambda x:name(x))"
   ]
  },
  {
   "cell_type": "code",
   "execution_count": 155,
   "id": "56fbca7d-bea4-4141-ac6d-f05ec2ab9b46",
   "metadata": {},
   "outputs": [],
   "source": [
    "df['Graphics']='RTX 4060'"
   ]
  },
  {
   "cell_type": "code",
   "execution_count": 156,
   "id": "c80931d5-0fda-42b7-9692-483d7761007c",
   "metadata": {},
   "outputs": [],
   "source": [
    "df=df[['Name','price','Graphics','Processor','Memory','link']]"
   ]
  },
  {
   "cell_type": "code",
   "execution_count": 157,
   "id": "24d97647-1e78-43d5-a7d4-c0108090f9c6",
   "metadata": {},
   "outputs": [
    {
     "data": {
      "text/html": [
       "<div>\n",
       "<style scoped>\n",
       "    .dataframe tbody tr th:only-of-type {\n",
       "        vertical-align: middle;\n",
       "    }\n",
       "\n",
       "    .dataframe tbody tr th {\n",
       "        vertical-align: top;\n",
       "    }\n",
       "\n",
       "    .dataframe thead th {\n",
       "        text-align: right;\n",
       "    }\n",
       "</style>\n",
       "<table border=\"1\" class=\"dataframe\">\n",
       "  <thead>\n",
       "    <tr style=\"text-align: right;\">\n",
       "      <th></th>\n",
       "      <th>Name</th>\n",
       "      <th>price</th>\n",
       "      <th>Graphics</th>\n",
       "      <th>Processor</th>\n",
       "      <th>Memory</th>\n",
       "      <th>link</th>\n",
       "    </tr>\n",
       "  </thead>\n",
       "  <tbody>\n",
       "    <tr>\n",
       "      <th>0</th>\n",
       "      <td>MSI Cyborg 15 A13VFK</td>\n",
       "      <td>Rp15.098.000</td>\n",
       "      <td>RTX 4060</td>\n",
       "      <td>i5 13420H</td>\n",
       "      <td>512SSD 144Hz</td>\n",
       "      <td>https://www.tokopedia.com/nvidiageforcelt/msi-cyborg-15-a13vfk-geforce-rtx-4060-i5-13420h-16gb-512ssd-144hz-ram-16gb-tanpa-antigores-7d151?extParam=src%3Dshop%26whid%3D10085151&amp;aff_unique_id=&amp;channel=others&amp;chain_key=</td>\n",
       "    </tr>\n",
       "    <tr>\n",
       "      <th>1</th>\n",
       "      <td>MSI THIN 15 A15</td>\n",
       "      <td>Rp15.099.000</td>\n",
       "      <td>RTX 4060</td>\n",
       "      <td>Ryzen 7 7735HS</td>\n",
       "      <td>512 W11</td>\n",
       "      <td>https://www.tokopedia.com/nvidiageforcelt/msi-thin-15-a15-geforce-rtx-4060-ryzen-7-7735hs-16gb-512gb-w11-ram-16gb-tanpa-antigores-c49b9?extParam=src%3Dshop%26whid%3D10085151&amp;aff_unique_id=&amp;channel=others&amp;chain_key=</td>\n",
       "    </tr>\n",
       "    <tr>\n",
       "      <th>2</th>\n",
       "      <td>MSI CYBORG 15</td>\n",
       "      <td>Rp15.250.000</td>\n",
       "      <td>RTX 4060</td>\n",
       "      <td>I7 12650H</td>\n",
       "      <td>512SSD - A12VF</td>\n",
       "      <td>https://www.tokopedia.com/nvidiageforcelt/msi-cyborg-15-geforce-rtx-4060-i7-12650h-16gb-512ssd-a12vf-tanpa-antigores-16gb-af7f8?extParam=whid%3D10085151%26src%3Dshop&amp;aff_unique_id=&amp;channel=others&amp;chain_key=</td>\n",
       "    </tr>\n",
       "    <tr>\n",
       "      <th>3</th>\n",
       "      <td>HP Victus 15 FB2999AX</td>\n",
       "      <td>Rp15.654.000</td>\n",
       "      <td>RTX 4060</td>\n",
       "      <td>RYZEN 5 8645HS</td>\n",
       "      <td>512 OHS 15.6 FHD 144HZ</td>\n",
       "      <td>https://www.tokopedia.com/nvidiageforcelt/hp-victus-15-fb2999ax-rtx-4060-ryzen-5-8645hs-16gb-512gb-ohs-15-6-fhd-144hz-ram-16gb-tanpa-antigores-df9ec?extParam=src%3Dshop%26whid%3D10085151&amp;aff_unique_id=&amp;channel=others&amp;chain_key=</td>\n",
       "    </tr>\n",
       "    <tr>\n",
       "      <th>4</th>\n",
       "      <td>AXIOO PONGO 760</td>\n",
       "      <td>Rp15.809.000</td>\n",
       "      <td>RTX 4060</td>\n",
       "      <td>I7 13620H</td>\n",
       "      <td>512SSD W11</td>\n",
       "      <td>https://www.tokopedia.com/nvidiageforcelt/axioo-pongo-760-geforce-rtx-4060-i7-13620h-16gb-512ssd-w11-tanpa-antigores-no-windows-6d203?extParam=src%3Dshop%26whid%3D10085151&amp;aff_unique_id=&amp;channel=others&amp;chain_key=</td>\n",
       "    </tr>\n",
       "    <tr>\n",
       "      <th>5</th>\n",
       "      <td>LENOVO LOQ 15</td>\n",
       "      <td>Rp15.959.000</td>\n",
       "      <td>RTX 4060</td>\n",
       "      <td>RYZEN 7 7435HS</td>\n",
       "      <td>512SSD 100SR</td>\n",
       "      <td>https://www.tokopedia.com/nvidiageforcelt/lenovo-loq-15-geforce-rtx-4060-ryzen-7-7435hs-12gb-512ssd-100srgb-ram-12gb-tanpa-antigores-d5940?extParam=src%3Dshop%26whid%3D10085151&amp;aff_unique_id=&amp;channel=others&amp;chain_key=</td>\n",
       "    </tr>\n",
       "    <tr>\n",
       "      <th>6</th>\n",
       "      <td>MSI CYBORG 15</td>\n",
       "      <td>Rp16.462.000</td>\n",
       "      <td>RTX 4060</td>\n",
       "      <td>I7 13620H</td>\n",
       "      <td>512SSD 144HZ  A13VFK</td>\n",
       "      <td>https://www.tokopedia.com/nvidiageforcelt/msi-cyborg-15-geforce-rtx-4060-i7-13620h-16gb-512ssd-144hz-a13vfk-16gb-1tb-tanpa-antigores-00070?extParam=src%3Dshop%26whid%3D10085151&amp;aff_unique_id=&amp;channel=others&amp;chain_key=</td>\n",
       "    </tr>\n",
       "    <tr>\n",
       "      <th>7</th>\n",
       "      <td>ASUS TUF A15 FA507NV</td>\n",
       "      <td>Rp16.523.000</td>\n",
       "      <td>RTX 4060</td>\n",
       "      <td>RYZEN 7 7735HS</td>\n",
       "      <td>1TBSD OHS</td>\n",
       "      <td>https://www.tokopedia.com/nvidiageforcelt/asus-tuf-a15-fa507nv-geforce-rtx-4060-ryzen-7-7735hs-16gb-1tbsd-ohs-tanpa-antigores-512gb-ssd-483e4?extParam=src%3Dshop%26whid%3D10085151&amp;aff_unique_id=&amp;channel=others&amp;chain_key=</td>\n",
       "    </tr>\n",
       "    <tr>\n",
       "      <th>8</th>\n",
       "      <td>HP Victus 16 S1002AX</td>\n",
       "      <td>Rp16.765.000</td>\n",
       "      <td>RTX 4060</td>\n",
       "      <td>Ryzen 5 8645HS</td>\n",
       "      <td>1TB SSD OHS</td>\n",
       "      <td>https://www.tokopedia.com/nvidiageforcelt/hp-victus-16-s1002ax-geforce-rtx-4060-ryzen-5-8645hs-16gb-1tb-ssd-ohs-ram-16gb-silver-tanpa-antigores-72514?extParam=src%3Dshop%26whid%3D10085151&amp;aff_unique_id=&amp;channel=others&amp;chain_key=</td>\n",
       "    </tr>\n",
       "    <tr>\n",
       "      <th>9</th>\n",
       "      <td>MSI Cyborg 14 A13VF</td>\n",
       "      <td>Rp16.866.000</td>\n",
       "      <td>RTX 4060</td>\n",
       "      <td>i7 13620H</td>\n",
       "      <td>512SSD 14 FHD</td>\n",
       "      <td>https://www.tokopedia.com/nvidiageforcelt/msi-cyborg-14-a13vf-geforce-rtx-4060-i7-13620h-16gb-512ssd-14-fhd-ram-16gb-tanpa-antigores-3c53d?extParam=src%3Dshop%26whid%3D10085151&amp;aff_unique_id=&amp;channel=others&amp;chain_key=</td>\n",
       "    </tr>\n",
       "  </tbody>\n",
       "</table>\n",
       "</div>"
      ],
      "text/plain": [
       "                     Name         price  Graphics         Processor  \\\n",
       "0   MSI Cyborg 15 A13VFK   Rp15.098.000  RTX 4060        i5 13420H    \n",
       "1        MSI THIN 15 A15   Rp15.099.000  RTX 4060   Ryzen 7 7735HS    \n",
       "2          MSI CYBORG 15   Rp15.250.000  RTX 4060        I7 12650H    \n",
       "3  HP Victus 15 FB2999AX   Rp15.654.000  RTX 4060   RYZEN 5 8645HS    \n",
       "4        AXIOO PONGO 760   Rp15.809.000  RTX 4060        I7 13620H    \n",
       "5          LENOVO LOQ 15   Rp15.959.000  RTX 4060   RYZEN 7 7435HS    \n",
       "6          MSI CYBORG 15   Rp16.462.000  RTX 4060        I7 13620H    \n",
       "7   ASUS TUF A15 FA507NV   Rp16.523.000  RTX 4060   RYZEN 7 7735HS    \n",
       "8   HP Victus 16 S1002AX   Rp16.765.000  RTX 4060   Ryzen 5 8645HS    \n",
       "9    MSI Cyborg 14 A13VF   Rp16.866.000  RTX 4060        i7 13620H    \n",
       "\n",
       "                    Memory  \\\n",
       "0             512SSD 144Hz   \n",
       "1                  512 W11   \n",
       "2           512SSD - A12VF   \n",
       "3   512 OHS 15.6 FHD 144HZ   \n",
       "4               512SSD W11   \n",
       "5             512SSD 100SR   \n",
       "6     512SSD 144HZ  A13VFK   \n",
       "7                1TBSD OHS   \n",
       "8              1TB SSD OHS   \n",
       "9            512SSD 14 FHD   \n",
       "\n",
       "                                                                                                                                                                                                                                   link  \n",
       "0             https://www.tokopedia.com/nvidiageforcelt/msi-cyborg-15-a13vfk-geforce-rtx-4060-i5-13420h-16gb-512ssd-144hz-ram-16gb-tanpa-antigores-7d151?extParam=src%3Dshop%26whid%3D10085151&aff_unique_id=&channel=others&chain_key=  \n",
       "1                https://www.tokopedia.com/nvidiageforcelt/msi-thin-15-a15-geforce-rtx-4060-ryzen-7-7735hs-16gb-512gb-w11-ram-16gb-tanpa-antigores-c49b9?extParam=src%3Dshop%26whid%3D10085151&aff_unique_id=&channel=others&chain_key=  \n",
       "2                        https://www.tokopedia.com/nvidiageforcelt/msi-cyborg-15-geforce-rtx-4060-i7-12650h-16gb-512ssd-a12vf-tanpa-antigores-16gb-af7f8?extParam=whid%3D10085151%26src%3Dshop&aff_unique_id=&channel=others&chain_key=  \n",
       "3   https://www.tokopedia.com/nvidiageforcelt/hp-victus-15-fb2999ax-rtx-4060-ryzen-5-8645hs-16gb-512gb-ohs-15-6-fhd-144hz-ram-16gb-tanpa-antigores-df9ec?extParam=src%3Dshop%26whid%3D10085151&aff_unique_id=&channel=others&chain_key=  \n",
       "4                  https://www.tokopedia.com/nvidiageforcelt/axioo-pongo-760-geforce-rtx-4060-i7-13620h-16gb-512ssd-w11-tanpa-antigores-no-windows-6d203?extParam=src%3Dshop%26whid%3D10085151&aff_unique_id=&channel=others&chain_key=  \n",
       "5             https://www.tokopedia.com/nvidiageforcelt/lenovo-loq-15-geforce-rtx-4060-ryzen-7-7435hs-12gb-512ssd-100srgb-ram-12gb-tanpa-antigores-d5940?extParam=src%3Dshop%26whid%3D10085151&aff_unique_id=&channel=others&chain_key=  \n",
       "6             https://www.tokopedia.com/nvidiageforcelt/msi-cyborg-15-geforce-rtx-4060-i7-13620h-16gb-512ssd-144hz-a13vfk-16gb-1tb-tanpa-antigores-00070?extParam=src%3Dshop%26whid%3D10085151&aff_unique_id=&channel=others&chain_key=  \n",
       "7          https://www.tokopedia.com/nvidiageforcelt/asus-tuf-a15-fa507nv-geforce-rtx-4060-ryzen-7-7735hs-16gb-1tbsd-ohs-tanpa-antigores-512gb-ssd-483e4?extParam=src%3Dshop%26whid%3D10085151&aff_unique_id=&channel=others&chain_key=  \n",
       "8  https://www.tokopedia.com/nvidiageforcelt/hp-victus-16-s1002ax-geforce-rtx-4060-ryzen-5-8645hs-16gb-1tb-ssd-ohs-ram-16gb-silver-tanpa-antigores-72514?extParam=src%3Dshop%26whid%3D10085151&aff_unique_id=&channel=others&chain_key=  \n",
       "9             https://www.tokopedia.com/nvidiageforcelt/msi-cyborg-14-a13vf-geforce-rtx-4060-i7-13620h-16gb-512ssd-14-fhd-ram-16gb-tanpa-antigores-3c53d?extParam=src%3Dshop%26whid%3D10085151&aff_unique_id=&channel=others&chain_key=  "
      ]
     },
     "execution_count": 157,
     "metadata": {},
     "output_type": "execute_result"
    }
   ],
   "source": [
    "df"
   ]
  },
  {
   "cell_type": "markdown",
   "id": "83972834-30ee-4e38-bab2-2b9f37d3e254",
   "metadata": {},
   "source": [
    "df.to_csv('New Laptop Manifesting 2025.csv', index=False)"
   ]
  },
  {
   "cell_type": "code",
   "execution_count": null,
   "id": "9a97ad08-fc89-4b7b-87a3-441f16df8a6f",
   "metadata": {},
   "outputs": [],
   "source": []
  }
 ],
 "metadata": {
  "kernelspec": {
   "display_name": "tokped_scraper",
   "language": "python",
   "name": "tokped_scraper"
  },
  "language_info": {
   "codemirror_mode": {
    "name": "ipython",
    "version": 3
   },
   "file_extension": ".py",
   "mimetype": "text/x-python",
   "name": "python",
   "nbconvert_exporter": "python",
   "pygments_lexer": "ipython3",
   "version": "3.8.16"
  }
 },
 "nbformat": 4,
 "nbformat_minor": 5
}
